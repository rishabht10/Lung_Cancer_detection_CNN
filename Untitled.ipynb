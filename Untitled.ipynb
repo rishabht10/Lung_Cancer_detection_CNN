{
 "cells": [
  {
   "cell_type": "code",
   "execution_count": 4,
   "id": "39785524-22fb-4171-ae3b-05d94350bda6",
   "metadata": {},
   "outputs": [
    {
     "name": "stdout",
     "output_type": "stream",
     "text": [
      "Requirement already satisfied: opencv-python in c:\\users\\rishabh\\appdata\\local\\programs\\python\\python310\\lib\\site-packages (4.8.0.76)\n",
      "Requirement already satisfied: numpy>=1.21.2 in c:\\users\\rishabh\\appdata\\local\\programs\\python\\python310\\lib\\site-packages (from opencv-python) (1.25.2)\n"
     ]
    },
    {
     "name": "stderr",
     "output_type": "stream",
     "text": [
      "WARNING: You are using pip version 21.2.4; however, version 23.3.2 is available.\n",
      "You should consider upgrading via the 'C:\\Users\\RISHABH\\AppData\\Local\\Programs\\Python\\Python310\\python.exe -m pip install --upgrade pip' command.\n"
     ]
    },
    {
     "ename": "ModuleNotFoundError",
     "evalue": "No module named 'cv2'",
     "output_type": "error",
     "traceback": [
      "\u001b[1;31m---------------------------------------------------------------------------\u001b[0m",
      "\u001b[1;31mModuleNotFoundError\u001b[0m                       Traceback (most recent call last)",
      "Cell \u001b[1;32mIn[4], line 2\u001b[0m\n\u001b[0;32m      1\u001b[0m get_ipython()\u001b[38;5;241m.\u001b[39msystem(\u001b[38;5;124m'\u001b[39m\u001b[38;5;124mpip install opencv-python\u001b[39m\u001b[38;5;124m'\u001b[39m)\n\u001b[1;32m----> 2\u001b[0m \u001b[38;5;28;01mimport\u001b[39;00m \u001b[38;5;21;01mcv2\u001b[39;00m\n\u001b[0;32m      3\u001b[0m \u001b[38;5;28;01mimport\u001b[39;00m \u001b[38;5;21;01mos\u001b[39;00m\n\u001b[0;32m      5\u001b[0m \u001b[38;5;66;03m# Specify the path to your grayscale image dataset\u001b[39;00m\n",
      "\u001b[1;31mModuleNotFoundError\u001b[0m: No module named 'cv2'"
     ]
    }
   ],
   "source": [
    "!pip install opencv-python\n",
    "import cv2\n",
    "import os\n",
    "\n",
    "# Specify the path to your grayscale image dataset\n",
    "grayscale_folder = 'R:\\cnn_test\\lc_train\\Benign'\n",
    "\n",
    "# Specify the output folder for the RGB images\n",
    "output_folder = 'R:\\cnn_test\\lc_train\\benignRGB'\n",
    "os.makedirs(output_folder, exist_ok=True)\n",
    "\n",
    "# Function to convert a single grayscale image to RGB\n",
    "def convert_to_rgb(input_path, output_path):\n",
    "    # Read the grayscale image\n",
    "    grayscale_img = cv2.imread(input_path, cv2.IMREAD_GRAYSCALE)\n",
    "\n",
    "    # Convert to three-channel RGB\n",
    "    rgb_img = cv2.cvtColor(grayscale_img, cv2.COLOR_GRAY2RGB)\n",
    "\n",
    "    # Save the RGB image\n",
    "    cv2.imwrite(output_path, rgb_img)\n",
    "\n",
    "# Iterate through all grayscale images in the folder and convert to RGB\n",
    "for filename in os.listdir(grayscale_folder):\n",
    "    if filename.endswith(\".png\") or filename.endswith(\".jpg\"):\n",
    "        input_path = os.path.join(grayscale_folder, filename)\n",
    "        output_path = os.path.join(output_folder, filename)\n",
    "        convert_to_rgb(input_path, output_path)\n",
    "\n"
   ]
  },
  {
   "cell_type": "code",
   "execution_count": null,
   "id": "8bb8bc33-d38b-44a2-b88a-431cdc105828",
   "metadata": {},
   "outputs": [],
   "source": []
  },
  {
   "cell_type": "code",
   "execution_count": null,
   "id": "ab271399-86f6-4920-8140-87f8a941d204",
   "metadata": {},
   "outputs": [],
   "source": []
  }
 ],
 "metadata": {
  "kernelspec": {
   "display_name": "lcm_torch",
   "language": "python",
   "name": "lcm_torch"
  },
  "language_info": {
   "codemirror_mode": {
    "name": "ipython",
    "version": 3
   },
   "file_extension": ".py",
   "mimetype": "text/x-python",
   "name": "python",
   "nbconvert_exporter": "python",
   "pygments_lexer": "ipython3",
   "version": "3.10.1"
  }
 },
 "nbformat": 4,
 "nbformat_minor": 5
}
